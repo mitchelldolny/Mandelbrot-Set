{
 "cells": [
  {
   "cell_type": "markdown",
   "metadata": {},
   "source": [
    "Creates the famous Mandelbrot set using linear interpolation for colour smoothing. From Blue->Purple->Red->Orange->Yellow"
   ]
  },
  {
   "cell_type": "markdown",
   "metadata": {},
   "source": [
    "Imports\n"
   ]
  },
  {
   "cell_type": "code",
   "execution_count": 13,
   "metadata": {},
   "outputs": [],
   "source": [
    "from PIL import Image, ImageDraw\n",
    "import math\n",
    "import numpy as np"
   ]
  },
  {
   "cell_type": "markdown",
   "metadata": {},
   "source": [
    "Functions"
   ]
  },
  {
   "cell_type": "code",
   "execution_count": 14,
   "metadata": {},
   "outputs": [],
   "source": [
    "def createIter(currentPixelX, currentPixelY, maxiter):\n",
    "    # Creates the next value to be used in the loop\n",
    "    nextvalue = complex(0, 0)\n",
    "    # Loops through the max iterations checking if the point converges \n",
    "    for j in range(maxiter):\n",
    "        # Turns the current pixel we are on and make it a complex number \n",
    "        startingVal = complex(currentPixelX, currentPixelY)\n",
    "        # The mandelbrot set equation\n",
    "        nextvalue = nextvalue ** 2 + startingVal\n",
    "        # Checks if it has converged and returns the value it diverged on (will be coloured)\n",
    "        if nextvalue.real > 2 or nextvalue.real < -2:\n",
    "            return j, nextvalue\n",
    "    # If we reached max_iter that means it didnt diverge so will be black\n",
    "    return maxiter, nextvalue\n",
    "\n",
    "\n",
    "# Computes a continuous colour value for a point based on the iterations it took if iter==max_iter then return 0\n",
    "def ratio(c, iterations, max_iterations):\n",
    "    if iterations < max_iterations:\n",
    "        return iterations + 1 - math.log(math.log(abs(c))) / math.log(2)\n",
    "    return 0\n",
    "\n",
    "# Generates the graident for colouring\n",
    "def generate_gradient(colors, steps):\n",
    "    # Create an empty aray\n",
    "    gradient = []\n",
    "    n = len(colors) - 1\n",
    "    # How many colours we want to generate\n",
    "    for i in range(steps):\n",
    "        # Determine the segment and relative position within the segment\n",
    "        segment = i * n / steps\n",
    "        # Ensures that the index does not exceed the size of the list\n",
    "        segment_index = min(int(segment), n - 1)\n",
    "        t = segment - segment_index\n",
    "\n",
    "        # Interpolate the colour of succeeding colours so if it was blue&purple generate a colour somewhere in the range of that based on i\n",
    "        start_color = colors[segment_index]\n",
    "        end_color = colors[segment_index + 1]\n",
    "        # Now after selecting the colours (say blue and purple) we bring i into this and come up with a linear interpolated value\n",
    "        r = int(start_color[0] + (end_color[0] - start_color[0]) * t)\n",
    "        g = int(start_color[1] + (end_color[1] - start_color[1]) * t)\n",
    "        b = int(start_color[2] + (end_color[2] - start_color[2]) * t)\n",
    "        # Add the tuple to the array\n",
    "        gradient.append((r, g, b))\n",
    "    \n",
    "    return gradient\n",
    "\n",
    "\n",
    "def smoothInterpolateColor(value, ratio):\n",
    "    # Crerates the colour array that basically goes from blue->purple->red->orange->yellow\n",
    "    # generates all 50 of the colours that make it a smoother transition from the above flow\n",
    "    colours = np.array(generate_gradient(\n",
    "        [(0, 0, 128), \n",
    "         (128, 0, 128), \n",
    "         (255, 0, 0), \n",
    "         (255, 165, 0), \n",
    "         (255, 255, 0)], \n",
    "         100))\n",
    "    # Selects the first colour based on the \"value\"\n",
    "    index1 = min(len(colours) - 1, int(value))\n",
    "    # Selects the next value based on \"value\"\n",
    "    index2 = min(len(colours) - 1, int(value + 1))\n",
    "    # now interpolate every aspect of rgb from the first index to the second index to generate a smoother transition\n",
    "    red = int(colours[index2, 0] * ratio + colours[index1, 0] * (1 - ratio))\n",
    "    green = int(colours[index2, 1] * ratio + colours[index1, 1] * (1 - ratio))\n",
    "    blue = int(colours[index2, 2] * ratio + colours[index1, 2] * (1 - ratio))\n",
    "    return red, green, blue\n",
    "\n",
    "def createpicture(w,h, xneg, yneg, xpos, ypos, maxiter, img):\n",
    "    # Loop through the width of the picture\n",
    "    for i in range(w):\n",
    "        # Gets the current real value we are on\n",
    "        currentPixelX = xneg + i / w * 3\n",
    "        # Loops through the height of the picture \n",
    "        for x in range(h):\n",
    "            # gets the current imaginary value we are on\n",
    "            currentPixelY = yneg + x / h * 3\n",
    "            # Returns the iteration it returned on and the value at the end\n",
    "            col, complex_val = createIter(currentPixelX, currentPixelY, maxiter)\n",
    "            # Turns the complex val into a value to be used for colouring\n",
    "            rat = ratio(complex_val, col, maxiter)\n",
    "            # maps the smooth ratio to a color from a gradient, ensuring smooth transitions between colors as the smooth ratio change\n",
    "            colour = smoothInterpolateColor(rat, rat % 1.0)\n",
    "            # if the maxiter was reached then it didnt diverge thus black\n",
    "            if (col == maxiter):\n",
    "                img.point((i,x), (0,0,0))\n",
    "            else: img.point((i, x), colour) # else colour it based on the colour returned\n",
    "    return img"
   ]
  },
  {
   "cell_type": "markdown",
   "metadata": {},
   "source": [
    "Now the code for the mandelbrot set"
   ]
  },
  {
   "cell_type": "code",
   "execution_count": 15,
   "metadata": {},
   "outputs": [
    {
     "name": "stdout",
     "output_type": "stream",
     "text": [
      "Image Saved\n"
     ]
    }
   ],
   "source": [
    "# Defines the bordes of the images and the iterations\n",
    "xneg = -2\n",
    "xpos = 1\n",
    "yneg = -1.5\n",
    "ypos = 1.5\n",
    "maxiter = 1000\n",
    "h = 1660\n",
    "w = 1660\n",
    "\n",
    "# Creates the image pbject\n",
    "img = Image.new(\"RGB\", (h, w), \"white\")\n",
    "draw = ImageDraw.Draw(img)\n",
    "# Creates the mandelbrot set picture\n",
    "createpicture(w,h, xneg, yneg, xpos, ypos, maxiter, draw)\n",
    "\n",
    "# Resizes the information\n",
    "img = img.resize((800, 800), Image.LANCZOS)\n",
    "# Saves the image\n",
    "img.save(\"mandelbrot.png\", \"png\")\n",
    "print(\"Image Saved\")"
   ]
  },
  {
   "cell_type": "markdown",
   "metadata": {},
   "source": [
    "Future Considerations:\n",
    "Using numpy special functionality can severely reduce the run time of this program and make it more efficient"
   ]
  }
 ],
 "metadata": {
  "kernelspec": {
   "display_name": "Python 3",
   "language": "python",
   "name": "python3"
  },
  "language_info": {
   "codemirror_mode": {
    "name": "ipython",
    "version": 3
   },
   "file_extension": ".py",
   "mimetype": "text/x-python",
   "name": "python",
   "nbconvert_exporter": "python",
   "pygments_lexer": "ipython3",
   "version": "3.11.0"
  }
 },
 "nbformat": 4,
 "nbformat_minor": 2
}
